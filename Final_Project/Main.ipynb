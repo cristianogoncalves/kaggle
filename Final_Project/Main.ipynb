{
 "cells": [
  {
   "cell_type": "code",
   "execution_count": 107,
   "metadata": {},
   "outputs": [
    {
     "name": "stdout",
     "output_type": "stream",
     "text": [
      "Populating the interactive namespace from numpy and matplotlib\n"
     ]
    }
   ],
   "source": [
    "import pandas as pd\n",
    "import numpy as np\n",
    "import matplotlib.pyplot as plt\n",
    "import seaborn as sns\n",
    "import pickle\n",
    "import re\n",
    "%pylab inline"
   ]
  },
  {
   "cell_type": "code",
   "execution_count": 121,
   "metadata": {},
   "outputs": [],
   "source": [
    "df = pd.read_csv('sales_train_v2.csv', sep=',')\n",
    "item_category = pd.read_pickle('item_category.pkl')\n",
    "item = pd.read_csv('items.csv', sep=',')\n",
    "shop = pd.read_excel('shop_eng.xlsx')"
   ]
  },
  {
   "cell_type": "code",
   "execution_count": 123,
   "metadata": {},
   "outputs": [],
   "source": [
    "item = pd.merge(item, item_category, how='left', on='item_category_id')\n",
    "df = pd.merge(df, item, how='left', on='item_id')\n",
    "df = pd.merge(df, shop, how='left', on='shop_id')"
   ]
  },
  {
   "cell_type": "code",
   "execution_count": 143,
   "metadata": {
    "collapsed": true
   },
   "outputs": [],
   "source": [
    "df['date_correct'] = df.date.apply(lambda x: datetime.datetime.strptime(x,\"%d.%m.%Y\"))"
   ]
  },
  {
   "cell_type": "code",
   "execution_count": 146,
   "metadata": {},
   "outputs": [],
   "source": [
    "df['year'] = df.date_correct.apply(lambda x: x.year)\n",
    "df['month'] = df.date_correct.apply(lambda x: x.month)\n",
    "df['day'] = df.date_correct.apply(lambda x: x.day)"
   ]
  },
  {
   "cell_type": "code",
   "execution_count": 151,
   "metadata": {},
   "outputs": [
    {
     "name": "stdout",
     "output_type": "stream",
     "text": [
      "<class 'pandas.core.frame.DataFrame'>\n",
      "Int64Index: 2935849 entries, 0 to 2935848\n",
      "Data columns (total 16 columns):\n",
      "date                  object\n",
      "date_block_num        int64\n",
      "shop_id               int64\n",
      "item_id               int64\n",
      "item_price            float64\n",
      "item_cnt_day          float64\n",
      "item_name             object\n",
      "item_category_id      int64\n",
      "item_category_name    object\n",
      "item_category_eng     object\n",
      "shop_name             object\n",
      "shop_name_eng         object\n",
      "year                  int64\n",
      "month                 int64\n",
      "day                   int64\n",
      "date_correct          datetime64[ns]\n",
      "dtypes: datetime64[ns](1), float64(2), int64(7), object(6)\n",
      "memory usage: 460.8+ MB\n"
     ]
    }
   ],
   "source": [
    "df.info()"
   ]
  },
  {
   "cell_type": "code",
   "execution_count": 153,
   "metadata": {},
   "outputs": [],
   "source": [
    "#df[['item_id','item_category_id','item_cnt_day']].groupby(['item_id','item_category_id']).agg('sum').unstack('item_category_id')"
   ]
  },
  {
   "cell_type": "code",
   "execution_count": null,
   "metadata": {
    "collapsed": true
   },
   "outputs": [],
   "source": []
  }
 ],
 "metadata": {
  "kernelspec": {
   "display_name": "Python 3",
   "language": "python",
   "name": "python3"
  },
  "language_info": {
   "codemirror_mode": {
    "name": "ipython",
    "version": 3
   },
   "file_extension": ".py",
   "mimetype": "text/x-python",
   "name": "python",
   "nbconvert_exporter": "python",
   "pygments_lexer": "ipython3",
   "version": "3.6.1"
  }
 },
 "nbformat": 4,
 "nbformat_minor": 2
}
